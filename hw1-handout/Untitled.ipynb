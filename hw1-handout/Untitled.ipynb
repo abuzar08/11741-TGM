{
 "cells": [
  {
   "cell_type": "code",
   "execution_count": 7,
   "metadata": {},
   "outputs": [],
   "source": [
    "import argparse\n",
    "\n",
    "import numpy as np\n",
    "\n",
    "import config\n",
    "import models\n",
    "import retrieval\n",
    "import utils\n",
    "from utils import StatusCode"
   ]
  },
  {
   "cell_type": "code",
   "execution_count": 16,
   "id": "0d84b8de",
   "metadata": {},
   "outputs": [],
   "source": [
    "matrix = sp.load_npz(\"./data/sparseTransition.npz\")"
   ]
  },
  {
   "cell_type": "code",
   "execution_count": 18,
   "id": "7ff79efe",
   "metadata": {},
   "outputs": [
    {
     "data": {
      "text/plain": [
       "11021"
      ]
     },
     "execution_count": 18,
     "metadata": {},
     "output_type": "execute_result"
    }
   ],
   "source": [
    "matrix.sum(axis=1).sum()"
   ]
  },
  {
   "cell_type": "code",
   "execution_count": 19,
   "id": "20efc27e",
   "metadata": {},
   "outputs": [
    {
     "data": {
      "text/plain": [
       "11021"
      ]
     },
     "execution_count": 19,
     "metadata": {},
     "output_type": "execute_result"
    }
   ],
   "source": [
    "matrix = sp.load_npz(\"./data/sparseTransition.npz\")\n",
    "matrix.sum(axis=1).sum()"
   ]
  },
  {
   "cell_type": "code",
   "execution_count": 20,
   "id": "9a43e139",
   "metadata": {},
   "outputs": [
    {
     "data": {
      "text/plain": [
       "11021"
      ]
     },
     "execution_count": 20,
     "metadata": {},
     "output_type": "execute_result"
    }
   ],
   "source": [
    "matrix = sp.load_npz(\"./data/sparseTransition.npz\")\n",
    "matrix.sum(axis=1).sum()"
   ]
  },
  {
   "cell_type": "code",
   "execution_count": 1,
   "id": "57a96065",
   "metadata": {},
   "outputs": [],
   "source": [
    "import numpy as np"
   ]
  },
  {
   "cell_type": "code",
   "execution_count": 2,
   "id": "19c122a7",
   "metadata": {},
   "outputs": [],
   "source": [
    "x = np.arange(10)\n",
    "np.random.shuffle(x)"
   ]
  },
  {
   "cell_type": "code",
   "execution_count": 3,
   "id": "be999333",
   "metadata": {},
   "outputs": [
    {
     "data": {
      "text/plain": [
       "array([2, 1, 6, 8, 5, 7, 0, 9, 4, 3])"
      ]
     },
     "execution_count": 3,
     "metadata": {},
     "output_type": "execute_result"
    }
   ],
   "source": [
    "x"
   ]
  },
  {
   "cell_type": "code",
   "execution_count": 6,
   "id": "02c7e0a0",
   "metadata": {},
   "outputs": [
    {
     "data": {
      "text/plain": [
       "array([7, 8, 3, 1, 4, 2, 9, 0, 5, 6])"
      ]
     },
     "execution_count": 6,
     "metadata": {},
     "output_type": "execute_result"
    }
   ],
   "source": [
    "np.argsort(np.argsort(-x))"
   ]
  },
  {
   "cell_type": "code",
   "execution_count": 5,
   "id": "2f1cb3bd",
   "metadata": {},
   "outputs": [
    {
     "data": {
      "text/plain": [
       "array([6, 1, 0, 9, 8, 4, 2, 5, 3, 7])"
      ]
     },
     "execution_count": 5,
     "metadata": {},
     "output_type": "execute_result"
    }
   ],
   "source": [
    "np.argsort(x)"
   ]
  },
  {
   "cell_type": "code",
   "execution_count": 2,
   "id": "e2bd0822",
   "metadata": {},
   "outputs": [],
   "source": [
    "data = np.loadtxt(\"output/GPR-CS.outputs.txt\", dtype=object)"
   ]
  },
  {
   "cell_type": "code",
   "execution_count": 3,
   "id": "5b804124",
   "metadata": {},
   "outputs": [
    {
     "data": {
      "text/plain": [
       "array(['14-1', 'Q0', '66049', '1', '328.5', 'GPR-CS'], dtype=object)"
      ]
     },
     "execution_count": 3,
     "metadata": {},
     "output_type": "execute_result"
    }
   ],
   "source": [
    "data[0]"
   ]
  },
  {
   "cell_type": "code",
   "execution_count": 4,
   "id": "1bbf63ba",
   "metadata": {},
   "outputs": [
    {
     "data": {
      "text/plain": [
       "array(['12-1', 'Q0', '10789', '17885', '4.5', 'GPR-CS'], dtype=object)"
      ]
     },
     "execution_count": 4,
     "metadata": {},
     "output_type": "execute_result"
    }
   ],
   "source": [
    "data[-1]"
   ]
  },
  {
   "cell_type": "code",
   "execution_count": 6,
   "id": "01fc6783",
   "metadata": {},
   "outputs": [],
   "source": [
    "rev_data = np.flip(data, axis=0)"
   ]
  },
  {
   "cell_type": "code",
   "execution_count": null,
   "id": "7fd751f9",
   "metadata": {},
   "outputs": [],
   "source": []
  }
 ],
 "metadata": {
  "kernelspec": {
   "display_name": "tgm",
   "language": "python",
   "name": "python3"
  },
  "language_info": {
   "codemirror_mode": {
    "name": "ipython",
    "version": 3
   },
   "file_extension": ".py",
   "mimetype": "text/x-python",
   "name": "python",
   "nbconvert_exporter": "python",
   "pygments_lexer": "ipython3",
   "version": "3.9.16"
  },
  "vscode": {
   "interpreter": {
    "hash": "4af74eb3343843b7b0a412b787c1c691814029d673db06d4348a193274995dcf"
   }
  }
 },
 "nbformat": 4,
 "nbformat_minor": 5
}
